{
 "cells": [
  {
   "cell_type": "markdown",
   "metadata": {},
   "source": [
    "#### New to Plotly?\n",
    "Plotly's Python library is free and open source! [Get started](https://plot.ly/python/getting-started/) by downloading the client and [reading the primer](https://plot.ly/python/getting-started/).\n",
    "<br>You can set up Plotly to work in [online](https://plot.ly/python/getting-started/#initialization-for-online-plotting) or [offline](https://plot.ly/python/getting-started/#initialization-for-offline-plotting) mode, or in [jupyter notebooks](https://plot.ly/python/getting-started/#start-plotting-online).\n",
    "<br>We also have a quick-reference [cheatsheet](https://images.plot.ly/plotly-documentation/images/python_cheat_sheet.pdf) (new!) to help you get started!"
   ]
  },
  {
   "cell_type": "markdown",
   "metadata": {},
   "source": [
    "#### Add a Background Image"
   ]
  },
  {
   "cell_type": "code",
   "execution_count": 1,
   "metadata": {},
   "outputs": [
    {
     "data": {
      "text/html": [
       "<script>requirejs.config({paths: { 'plotly': ['https://cdn.plot.ly/plotly-latest.min']},});if(!window.Plotly) {{require(['plotly'],function(plotly) {window.Plotly=plotly;});}}</script>"
      ],
      "text/vnd.plotly.v1+html": [
       "<script>requirejs.config({paths: { 'plotly': ['https://cdn.plot.ly/plotly-latest.min']},});if(!window.Plotly) {{require(['plotly'],function(plotly) {window.Plotly=plotly;});}}</script>"
      ]
     },
     "metadata": {},
     "output_type": "display_data"
    },
    {
     "name": "stdout",
     "output_type": "stream",
     "text": [
      "2.2.1\n"
     ]
    }
   ],
   "source": [
    "# set up plotly in 'offline' mode                            #ToDo JK: this should be cleaned up and documented\n",
    "from plotly import __version__\n",
    "from plotly.offline import download_plotlyjs, init_notebook_mode, plot,iplot\n",
    "import plotly.graph_objs as go\n",
    "init_notebook_mode(connected=True)\n",
    "print (__version__) # requires version >= 1.9.0\n",
    "\n",
    "# collect all plotly setups here\n",
    "import plotly.offline as plotly  #testing\n",
    "from plotly.graph_objs import *  #testing"
   ]
  },
  {
   "cell_type": "code",
   "execution_count": 13,
   "metadata": {
    "scrolled": true
   },
   "outputs": [
    {
     "data": {
      "application/vnd.plotly.v1+json": {
       "data": [
        {
         "type": "scatter",
         "x": [
          0,
          0.5,
          1,
          2,
          2.2
         ],
         "y": [
          1.23,
          2.5,
          0.42,
          3,
          1
         ]
        }
       ],
       "layout": {
        "images": [
         {
          "layer": "below",
          "opacity": 0.5,
          "sizex": 2,
          "sizey": 2,
          "sizing": "stretch",
          "source": "https://firebasestorage.googleapis.com/v0/b/test-dc2d6.appspot.com/o/BaselBasemapRheintunnel.png?alt=media&token=c4581931-7655-46d1-a210-afca244cbb84",
          "x": 0,
          "xref": "x",
          "y": 3,
          "yref": "y"
         }
        ]
       }
      },
      "text/html": [
       "<div id=\"3accc4d2-cb47-4271-9171-403846d34cf3\" style=\"height: 525px; width: 100%;\" class=\"plotly-graph-div\"></div><script type=\"text/javascript\">require([\"plotly\"], function(Plotly) { window.PLOTLYENV=window.PLOTLYENV || {};window.PLOTLYENV.BASE_URL=\"https://plot.ly\";Plotly.newPlot(\"3accc4d2-cb47-4271-9171-403846d34cf3\", [{\"y\": [1.23, 2.5, 0.42, 3, 1], \"x\": [0, 0.5, 1, 2, 2.2], \"type\": \"scatter\"}], {\"images\": [{\"opacity\": 0.5, \"sizing\": \"stretch\", \"layer\": \"below\", \"xref\": \"x\", \"yref\": \"y\", \"sizex\": 2, \"sizey\": 2, \"source\": \"https://firebasestorage.googleapis.com/v0/b/test-dc2d6.appspot.com/o/BaselBasemapRheintunnel.png?alt=media&token=c4581931-7655-46d1-a210-afca244cbb84\", \"y\": 3, \"x\": 0}]}, {\"linkText\": \"Export to plot.ly\", \"showLink\": true})});</script>"
      ],
      "text/vnd.plotly.v1+html": [
       "<div id=\"3accc4d2-cb47-4271-9171-403846d34cf3\" style=\"height: 525px; width: 100%;\" class=\"plotly-graph-div\"></div><script type=\"text/javascript\">require([\"plotly\"], function(Plotly) { window.PLOTLYENV=window.PLOTLYENV || {};window.PLOTLYENV.BASE_URL=\"https://plot.ly\";Plotly.newPlot(\"3accc4d2-cb47-4271-9171-403846d34cf3\", [{\"y\": [1.23, 2.5, 0.42, 3, 1], \"x\": [0, 0.5, 1, 2, 2.2], \"type\": \"scatter\"}], {\"images\": [{\"opacity\": 0.5, \"sizing\": \"stretch\", \"layer\": \"below\", \"xref\": \"x\", \"yref\": \"y\", \"sizex\": 2, \"sizey\": 2, \"source\": \"https://firebasestorage.googleapis.com/v0/b/test-dc2d6.appspot.com/o/BaselBasemapRheintunnel.png?alt=media&token=c4581931-7655-46d1-a210-afca244cbb84\", \"y\": 3, \"x\": 0}]}, {\"linkText\": \"Export to plot.ly\", \"showLink\": true})});</script>"
      ]
     },
     "metadata": {},
     "output_type": "display_data"
    }
   ],
   "source": [
    "#import plotly.plotly as py\n",
    "#import plotly.graph_objs as go\n",
    "#import numpy as np\n",
    "trace1= go.Scatter(x=[0,0.5,1,2,2.2],y=[1.23,2.5,0.42,3,1])\n",
    "layout= go.Layout(images= [dict(\n",
    "                  #source= \"https://images.plot.ly/language-icons/api-home/python-logo.png\",\n",
    "                  #source = 'https://github.com/JJK-engineering/TunnelGIS/blob/master/data/in/BaselBasemapRheintunnel.png',\n",
    "                  source = 'https://firebasestorage.googleapis.com/v0/b/test-dc2d6.appspot.com/o/BaselBasemapRheintunnel.png?alt=media&token=c4581931-7655-46d1-a210-afca244cbb84',\n",
    "                  xref= \"x\",\n",
    "                  yref= \"y\",\n",
    "                  x= 0,\n",
    "                  y= 3,\n",
    "                  sizex= 2,\n",
    "                  sizey= 2,\n",
    "                  sizing= \"stretch\",\n",
    "                  opacity= 0.5,\n",
    "                  layer= \"below\")])\n",
    "figure=go.Figure(data=[trace1],layout=layout)\n",
    "plotly.iplot(figure)"
   ]
  },
  {
   "cell_type": "markdown",
   "metadata": {},
   "source": [
    "#### Add a Logo\n",
    "See more examples of [adding logos to charts](https://plot.ly/python/logos/)!"
   ]
  },
  {
   "cell_type": "code",
   "execution_count": 3,
   "metadata": {},
   "outputs": [
    {
     "data": {
      "application/vnd.plotly.v1+json": {
       "data": [
        {
         "marker": {
          "color": "rgb(253, 240, 54)",
          "line": {
           "color": "rgb(0, 0, 0)",
           "width": 2
          }
         },
         "orientation": "h",
         "type": "bar",
         "x": [
          "-35.3",
          "-15.9",
          "-15.8",
          "-15.6",
          "-11.1",
          "-9.6",
          "-9.2",
          "-3.5",
          "-1.9",
          "-0.9",
          "1.0",
          "1.4",
          "1.7",
          "2.0",
          "2.8",
          "6.2",
          "8.1",
          "8.5",
          "8.5",
          "8.6",
          "11.4",
          "12.5",
          "13.3",
          "13.7",
          "14.4",
          "17.5",
          "17.7",
          "18.9",
          "25.1",
          "28.9",
          "41.4"
         ],
         "y": [
          "Designers, musicians, artists, etc.",
          "Secretaries and administrative assistants",
          "Waiters and servers",
          "Archivists, curators, and librarians",
          "Sales and related",
          "Childcare workers, home car workers, etc.",
          "Food preparation occupations",
          "Janitors, maids, etc.",
          "Healthcare technicians, assistants. and aides",
          "Counselors, social and religious workers",
          "Physical, life and social scientists",
          "Construction",
          "Factory assembly workers",
          "Machinists, repairmen, etc.",
          "Media and communications workers",
          "Teachers",
          "Mechanics, repairmen, etc.",
          "Financial analysts and advisers",
          "Farming, fishing and forestry workers",
          "Truck drivers, heavy equipment operator, etc.",
          "Accountants and auditors",
          "Human resources, management analysts, etc.",
          "Managers",
          "Lawyers and judges",
          "Engineers, architects and surveyors",
          "Nurses",
          "Legal support workers",
          "Computer programmers and system admin.",
          "Police officers and firefighters",
          "Chief executives",
          "Doctors, dentists and surgeons"
         ]
        }
       ],
       "layout": {
        "autosize": false,
        "bargap": 0.15,
        "bargroupgap": 0.1,
        "barmode": "stack",
        "height": 800,
        "hovermode": "x",
        "images": [
         {
          "sizex": 0.2,
          "sizey": 0.2,
          "source": "https://raw.githubusercontent.com/cldougl/plot_images/add_r_img/vox.png",
          "x": 1,
          "xanchor": "right",
          "xref": "paper",
          "y": 1.05,
          "yanchor": "bottom",
          "yref": "paper"
         }
        ],
        "margin": {
         "b": 75,
         "l": 300,
         "r": 20,
         "t": 125
        },
        "title": "Moving Up, Moving Down<br><i>Percentile change in income between childhood and adulthood</i>",
        "width": 700,
        "xaxis": {
         "autotick": false,
         "dtick": 10,
         "gridcolor": "rgba(102, 102, 102, 0.4)",
         "linecolor": "#000",
         "linewidth": 1,
         "mirror": true,
         "nticks": 0,
         "showticklabels": true,
         "tick0": 0,
         "tickwidth": 1,
         "title": "<i>Change in percentile</i>"
        },
        "yaxis": {
         "anchor": "x",
         "autotick": false,
         "gridcolor": "rgba(102, 102, 102, 0.4)",
         "gridwidth": 1,
         "linecolor": "#000",
         "linewidth": 1,
         "mirror": true,
         "showgrid": false,
         "showline": true,
         "showticklabels": true,
         "tick0": 0,
         "type": "category",
         "zeroline": false
        }
       }
      },
      "text/html": [
       "<div id=\"82960cbd-0d47-4695-a6eb-31c7ee67ccf2\" style=\"height: 800px; width: 700px;\" class=\"plotly-graph-div\"></div><script type=\"text/javascript\">require([\"plotly\"], function(Plotly) { window.PLOTLYENV=window.PLOTLYENV || {};window.PLOTLYENV.BASE_URL=\"https://plot.ly\";Plotly.newPlot(\"82960cbd-0d47-4695-a6eb-31c7ee67ccf2\", [{\"marker\": {\"color\": \"rgb(253, 240, 54)\", \"line\": {\"color\": \"rgb(0, 0, 0)\", \"width\": 2}}, \"y\": [\"Designers, musicians, artists, etc.\", \"Secretaries and administrative assistants\", \"Waiters and servers\", \"Archivists, curators, and librarians\", \"Sales and related\", \"Childcare workers, home car workers, etc.\", \"Food preparation occupations\", \"Janitors, maids, etc.\", \"Healthcare technicians, assistants. and aides\", \"Counselors, social and religious workers\", \"Physical, life and social scientists\", \"Construction\", \"Factory assembly workers\", \"Machinists, repairmen, etc.\", \"Media and communications workers\", \"Teachers\", \"Mechanics, repairmen, etc.\", \"Financial analysts and advisers\", \"Farming, fishing and forestry workers\", \"Truck drivers, heavy equipment operator, etc.\", \"Accountants and auditors\", \"Human resources, management analysts, etc.\", \"Managers\", \"Lawyers and judges\", \"Engineers, architects and surveyors\", \"Nurses\", \"Legal support workers\", \"Computer programmers and system admin.\", \"Police officers and firefighters\", \"Chief executives\", \"Doctors, dentists and surgeons\"], \"type\": \"bar\", \"orientation\": \"h\", \"x\": [\"-35.3\", \"-15.9\", \"-15.8\", \"-15.6\", \"-11.1\", \"-9.6\", \"-9.2\", \"-3.5\", \"-1.9\", \"-0.9\", \"1.0\", \"1.4\", \"1.7\", \"2.0\", \"2.8\", \"6.2\", \"8.1\", \"8.5\", \"8.5\", \"8.6\", \"11.4\", \"12.5\", \"13.3\", \"13.7\", \"14.4\", \"17.5\", \"17.7\", \"18.9\", \"25.1\", \"28.9\", \"41.4\"]}], {\"autosize\": false, \"title\": \"Moving Up, Moving Down<br><i>Percentile change in income between childhood and adulthood</i>\", \"yaxis\": {\"showticklabels\": true, \"tick0\": 0, \"gridwidth\": 1, \"showgrid\": false, \"gridcolor\": \"rgba(102, 102, 102, 0.4)\", \"linecolor\": \"#000\", \"mirror\": true, \"zeroline\": false, \"showline\": true, \"autotick\": false, \"linewidth\": 1, \"type\": \"category\", \"anchor\": \"x\"}, \"height\": 800, \"barmode\": \"stack\", \"bargap\": 0.15, \"xaxis\": {\"showticklabels\": true, \"tickwidth\": 1, \"title\": \"<i>Change in percentile</i>\", \"tick0\": 0, \"dtick\": 10, \"gridcolor\": \"rgba(102, 102, 102, 0.4)\", \"linecolor\": \"#000\", \"mirror\": true, \"nticks\": 0, \"linewidth\": 1, \"autotick\": false}, \"images\": [{\"yanchor\": \"bottom\", \"xref\": \"paper\", \"xanchor\": \"right\", \"yref\": \"paper\", \"sizex\": 0.2, \"sizey\": 0.2, \"source\": \"https://raw.githubusercontent.com/cldougl/plot_images/add_r_img/vox.png\", \"y\": 1.05, \"x\": 1}], \"hovermode\": \"x\", \"bargroupgap\": 0.1, \"margin\": {\"r\": 20, \"b\": 75, \"t\": 125, \"l\": 300}, \"width\": 700}, {\"linkText\": \"Export to plot.ly\", \"showLink\": true})});</script>"
      ],
      "text/vnd.plotly.v1+html": [
       "<div id=\"82960cbd-0d47-4695-a6eb-31c7ee67ccf2\" style=\"height: 800px; width: 700px;\" class=\"plotly-graph-div\"></div><script type=\"text/javascript\">require([\"plotly\"], function(Plotly) { window.PLOTLYENV=window.PLOTLYENV || {};window.PLOTLYENV.BASE_URL=\"https://plot.ly\";Plotly.newPlot(\"82960cbd-0d47-4695-a6eb-31c7ee67ccf2\", [{\"marker\": {\"color\": \"rgb(253, 240, 54)\", \"line\": {\"color\": \"rgb(0, 0, 0)\", \"width\": 2}}, \"y\": [\"Designers, musicians, artists, etc.\", \"Secretaries and administrative assistants\", \"Waiters and servers\", \"Archivists, curators, and librarians\", \"Sales and related\", \"Childcare workers, home car workers, etc.\", \"Food preparation occupations\", \"Janitors, maids, etc.\", \"Healthcare technicians, assistants. and aides\", \"Counselors, social and religious workers\", \"Physical, life and social scientists\", \"Construction\", \"Factory assembly workers\", \"Machinists, repairmen, etc.\", \"Media and communications workers\", \"Teachers\", \"Mechanics, repairmen, etc.\", \"Financial analysts and advisers\", \"Farming, fishing and forestry workers\", \"Truck drivers, heavy equipment operator, etc.\", \"Accountants and auditors\", \"Human resources, management analysts, etc.\", \"Managers\", \"Lawyers and judges\", \"Engineers, architects and surveyors\", \"Nurses\", \"Legal support workers\", \"Computer programmers and system admin.\", \"Police officers and firefighters\", \"Chief executives\", \"Doctors, dentists and surgeons\"], \"type\": \"bar\", \"orientation\": \"h\", \"x\": [\"-35.3\", \"-15.9\", \"-15.8\", \"-15.6\", \"-11.1\", \"-9.6\", \"-9.2\", \"-3.5\", \"-1.9\", \"-0.9\", \"1.0\", \"1.4\", \"1.7\", \"2.0\", \"2.8\", \"6.2\", \"8.1\", \"8.5\", \"8.5\", \"8.6\", \"11.4\", \"12.5\", \"13.3\", \"13.7\", \"14.4\", \"17.5\", \"17.7\", \"18.9\", \"25.1\", \"28.9\", \"41.4\"]}], {\"autosize\": false, \"title\": \"Moving Up, Moving Down<br><i>Percentile change in income between childhood and adulthood</i>\", \"yaxis\": {\"showticklabels\": true, \"tick0\": 0, \"gridwidth\": 1, \"showgrid\": false, \"gridcolor\": \"rgba(102, 102, 102, 0.4)\", \"linecolor\": \"#000\", \"mirror\": true, \"zeroline\": false, \"showline\": true, \"autotick\": false, \"linewidth\": 1, \"type\": \"category\", \"anchor\": \"x\"}, \"height\": 800, \"barmode\": \"stack\", \"bargap\": 0.15, \"xaxis\": {\"showticklabels\": true, \"tickwidth\": 1, \"title\": \"<i>Change in percentile</i>\", \"tick0\": 0, \"dtick\": 10, \"gridcolor\": \"rgba(102, 102, 102, 0.4)\", \"linecolor\": \"#000\", \"mirror\": true, \"nticks\": 0, \"linewidth\": 1, \"autotick\": false}, \"images\": [{\"yanchor\": \"bottom\", \"xref\": \"paper\", \"xanchor\": \"right\", \"yref\": \"paper\", \"sizex\": 0.2, \"sizey\": 0.2, \"source\": \"https://raw.githubusercontent.com/cldougl/plot_images/add_r_img/vox.png\", \"y\": 1.05, \"x\": 1}], \"hovermode\": \"x\", \"bargroupgap\": 0.1, \"margin\": {\"r\": 20, \"b\": 75, \"t\": 125, \"l\": 300}, \"width\": 700}, {\"linkText\": \"Export to plot.ly\", \"showLink\": true})});</script>"
      ]
     },
     "metadata": {},
     "output_type": "display_data"
    }
   ],
   "source": [
    "data = Data([\n",
    "    Bar(\n",
    "        x=['-35.3', '-15.9', '-15.8', '-15.6', '-11.1',\n",
    "           '-9.6', '-9.2', '-3.5', '-1.9', '-0.9',\n",
    "           '1.0', '1.4', '1.7', '2.0', '2.8', '6.2',\n",
    "           '8.1', '8.5', '8.5', '8.6', '11.4', '12.5',\n",
    "           '13.3', '13.7', '14.4', '17.5', '17.7',\n",
    "           '18.9', '25.1', '28.9', '41.4'],\n",
    "        y=['Designers, musicians, artists, etc.',\n",
    "           'Secretaries and administrative assistants',\n",
    "           'Waiters and servers', 'Archivists, curators, and librarians',\n",
    "           'Sales and related', 'Childcare workers, home car workers, etc.',\n",
    "           'Food preparation occupations', 'Janitors, maids, etc.',\n",
    "           'Healthcare technicians, assistants. and aides',\n",
    "           'Counselors, social and religious workers',\n",
    "           'Physical, life and social scientists', 'Construction',\n",
    "           'Factory assembly workers', 'Machinists, repairmen, etc.',\n",
    "           'Media and communications workers', 'Teachers',\n",
    "           'Mechanics, repairmen, etc.', 'Financial analysts and advisers',\n",
    "           'Farming, fishing and forestry workers',\n",
    "           'Truck drivers, heavy equipment operator, etc.','Accountants and auditors',\n",
    "           'Human resources, management analysts, etc.', 'Managers',\n",
    "           'Lawyers and judges', 'Engineers, architects and surveyors',\n",
    "           'Nurses', 'Legal support workers',\n",
    "           'Computer programmers and system admin.', 'Police officers and firefighters',\n",
    "           'Chief executives', 'Doctors, dentists and surgeons'],\n",
    "        marker=Marker(\n",
    "            color='rgb(253, 240, 54)',\n",
    "            line=Line(color='rgb(0, 0, 0)',\n",
    "                      width=2)\n",
    "        ),\n",
    "        orientation='h',\n",
    "    )\n",
    "])\n",
    "\n",
    "layout = Layout(\n",
    "    images=[dict(\n",
    "        source=\"https://raw.githubusercontent.com/cldougl/plot_images/add_r_img/vox.png\",\n",
    "        xref=\"paper\", yref=\"paper\",\n",
    "        x=1, y=1.05,\n",
    "        sizex=0.2, sizey=0.2,\n",
    "        xanchor=\"right\", yanchor=\"bottom\"\n",
    "      )],\n",
    "    autosize=False, height=800, width=700,\n",
    "    bargap=0.15, bargroupgap=0.1,\n",
    "    barmode='stack', hovermode='x',\n",
    "    margin=Margin(r=20, l=300,\n",
    "                  b=75, t=125),\n",
    "    title='Moving Up, Moving Down<br><i>Percentile change in income between childhood and adulthood</i>',\n",
    "    xaxis=XAxis(\n",
    "        autotick=False, dtick=10, nticks=0,\n",
    "        gridcolor='rgba(102, 102, 102, 0.4)',\n",
    "        linecolor='#000', linewidth=1,\n",
    "        mirror=True,\n",
    "        showticklabels=True, tick0=0, tickwidth=1,\n",
    "        title='<i>Change in percentile</i>',\n",
    "    ),\n",
    "    yaxis=YAxis(\n",
    "        anchor='x', autotick=False,\n",
    "        gridcolor='rgba(102, 102, 102, 0.4)', gridwidth=1,\n",
    "        linecolor='#000', linewidth=1,\n",
    "        mirror=True, showgrid=False,\n",
    "        showline=True, zeroline=False,\n",
    "        showticklabels=True, tick0=0,\n",
    "        type='category',\n",
    "    )\n",
    ")\n",
    "figure = Figure(data=data, layout=layout)\n",
    "plotly.iplot(figure)"
   ]
  },
  {
   "cell_type": "markdown",
   "metadata": {},
   "source": [
    "#### Add Multiple Images "
   ]
  },
  {
   "cell_type": "code",
   "execution_count": 4,
   "metadata": {},
   "outputs": [
    {
     "data": {
      "application/vnd.plotly.v1+json": {
       "data": [
        {
         "type": "scatter",
         "x": [
          0,
          0.5,
          1,
          2,
          2.2
         ],
         "y": [
          1.23,
          2.5,
          0.42,
          3,
          1
         ]
        }
       ],
       "layout": {
        "images": [
         {
          "sizex": 0.2,
          "sizey": 0.2,
          "source": "https://images.plot.ly/language-icons/api-home/python-logo.png",
          "x": 0,
          "xanchor": "right",
          "xref": "paper",
          "y": 1,
          "yanchor": "bottom",
          "yref": "paper"
         },
         {
          "sizex": 1,
          "sizey": 1,
          "source": "https://images.plot.ly/language-icons/api-home/js-logo.png",
          "x": 1.5,
          "xanchor": "right",
          "xref": "x",
          "y": 2,
          "yanchor": "bottom",
          "yref": "y"
         },
         {
          "layer": "below",
          "opacity": 0.4,
          "sizex": 0.3,
          "sizey": 0.5,
          "sizing": "stretch",
          "source": "https://images.plot.ly/language-icons/api-home/r-logo.png",
          "x": 2,
          "xref": "x",
          "y": 1,
          "yref": "y"
         },
         {
          "opacity": 1,
          "sizex": 0.5,
          "sizey": 1,
          "source": "https://images.plot.ly/language-icons/api-home/matlab-logo.png",
          "x": 3,
          "xanchor": "right",
          "xref": "x",
          "y": 0,
          "yanchor": "middle",
          "yref": "paper"
         }
        ]
       }
      },
      "text/html": [
       "<div id=\"c4c04981-55d8-42d8-af7e-70c7d1331a92\" style=\"height: 525px; width: 100%;\" class=\"plotly-graph-div\"></div><script type=\"text/javascript\">require([\"plotly\"], function(Plotly) { window.PLOTLYENV=window.PLOTLYENV || {};window.PLOTLYENV.BASE_URL=\"https://plot.ly\";Plotly.newPlot(\"c4c04981-55d8-42d8-af7e-70c7d1331a92\", [{\"y\": [1.23, 2.5, 0.42, 3, 1], \"x\": [0, 0.5, 1, 2, 2.2], \"type\": \"scatter\"}], {\"images\": [{\"yanchor\": \"bottom\", \"xref\": \"paper\", \"xanchor\": \"right\", \"yref\": \"paper\", \"sizex\": 0.2, \"sizey\": 0.2, \"source\": \"https://images.plot.ly/language-icons/api-home/python-logo.png\", \"y\": 1, \"x\": 0}, {\"yanchor\": \"bottom\", \"xref\": \"x\", \"xanchor\": \"right\", \"yref\": \"y\", \"sizex\": 1, \"sizey\": 1, \"source\": \"https://images.plot.ly/language-icons/api-home/js-logo.png\", \"y\": 2, \"x\": 1.5}, {\"opacity\": 0.4, \"sizing\": \"stretch\", \"layer\": \"below\", \"xref\": \"x\", \"yref\": \"y\", \"sizex\": 0.3, \"sizey\": 0.5, \"source\": \"https://images.plot.ly/language-icons/api-home/r-logo.png\", \"y\": 1, \"x\": 2}, {\"opacity\": 1, \"yanchor\": \"middle\", \"xref\": \"x\", \"xanchor\": \"right\", \"yref\": \"paper\", \"sizex\": 0.5, \"sizey\": 1, \"source\": \"https://images.plot.ly/language-icons/api-home/matlab-logo.png\", \"y\": 0, \"x\": 3}]}, {\"linkText\": \"Export to plot.ly\", \"showLink\": true})});</script>"
      ],
      "text/vnd.plotly.v1+html": [
       "<div id=\"c4c04981-55d8-42d8-af7e-70c7d1331a92\" style=\"height: 525px; width: 100%;\" class=\"plotly-graph-div\"></div><script type=\"text/javascript\">require([\"plotly\"], function(Plotly) { window.PLOTLYENV=window.PLOTLYENV || {};window.PLOTLYENV.BASE_URL=\"https://plot.ly\";Plotly.newPlot(\"c4c04981-55d8-42d8-af7e-70c7d1331a92\", [{\"y\": [1.23, 2.5, 0.42, 3, 1], \"x\": [0, 0.5, 1, 2, 2.2], \"type\": \"scatter\"}], {\"images\": [{\"yanchor\": \"bottom\", \"xref\": \"paper\", \"xanchor\": \"right\", \"yref\": \"paper\", \"sizex\": 0.2, \"sizey\": 0.2, \"source\": \"https://images.plot.ly/language-icons/api-home/python-logo.png\", \"y\": 1, \"x\": 0}, {\"yanchor\": \"bottom\", \"xref\": \"x\", \"xanchor\": \"right\", \"yref\": \"y\", \"sizex\": 1, \"sizey\": 1, \"source\": \"https://images.plot.ly/language-icons/api-home/js-logo.png\", \"y\": 2, \"x\": 1.5}, {\"opacity\": 0.4, \"sizing\": \"stretch\", \"layer\": \"below\", \"xref\": \"x\", \"yref\": \"y\", \"sizex\": 0.3, \"sizey\": 0.5, \"source\": \"https://images.plot.ly/language-icons/api-home/r-logo.png\", \"y\": 1, \"x\": 2}, {\"opacity\": 1, \"yanchor\": \"middle\", \"xref\": \"x\", \"xanchor\": \"right\", \"yref\": \"paper\", \"sizex\": 0.5, \"sizey\": 1, \"source\": \"https://images.plot.ly/language-icons/api-home/matlab-logo.png\", \"y\": 0, \"x\": 3}]}, {\"linkText\": \"Export to plot.ly\", \"showLink\": true})});</script>"
      ]
     },
     "metadata": {},
     "output_type": "display_data"
    }
   ],
   "source": [
    "import numpy as np\n",
    "trace1= go.Scatter(x=[0,0.5,1,2,2.2],y=[1.23,2.5,0.42,3,1])\n",
    "layout= go.Layout(images= [dict(\n",
    "        source= \"https://images.plot.ly/language-icons/api-home/python-logo.png\",\n",
    "        xref= \"paper\",\n",
    "        yref= \"paper\",\n",
    "        x= 0,\n",
    "        y= 1,\n",
    "        sizex= 0.2,\n",
    "        sizey= 0.2,\n",
    "        xanchor= \"right\",\n",
    "        yanchor= \"bottom\"\n",
    "      ),dict(\n",
    "        source= \"https://images.plot.ly/language-icons/api-home/js-logo.png\",\n",
    "        xref=\"x\",\n",
    "        yref= \"y\",\n",
    "        x= 1.5,\n",
    "        y= 2,\n",
    "        sizex= 1,\n",
    "        sizey= 1,\n",
    "        xanchor= \"right\",\n",
    "        yanchor= \"bottom\"\n",
    "      ),\n",
    "      dict(\n",
    "        source= \"https://images.plot.ly/language-icons/api-home/r-logo.png\",\n",
    "        xref= \"x\",\n",
    "        yref= \"y\",\n",
    "        x= 2,\n",
    "        y= 1,\n",
    "        sizex= 0.3,\n",
    "        sizey= 0.5,\n",
    "        sizing= \"stretch\",\n",
    "        opacity= 0.4,\n",
    "        layer= \"below\"\n",
    "      ),\n",
    "      dict(\n",
    "        source= \"https://images.plot.ly/language-icons/api-home/matlab-logo.png\",\n",
    "        xref= \"x\",\n",
    "        yref= \"paper\",\n",
    "        x= 3,\n",
    "        y= 0,\n",
    "        sizex= 0.5,\n",
    "        sizey= 1,\n",
    "        opacity= 1,\n",
    "        xanchor= \"right\",\n",
    "        yanchor=\"middle\"\n",
    "      )])\n",
    "figure=go.Figure(data=[trace1],layout=layout)\n",
    "plotly.iplot(figure)"
   ]
  },
  {
   "cell_type": "markdown",
   "metadata": {},
   "source": [
    "#### Reference\n",
    "See https://plot.ly/python/reference/#layout-images for more information and chart attribute options!"
   ]
  },
  {
   "cell_type": "code",
   "execution_count": null,
   "metadata": {
    "collapsed": true
   },
   "outputs": [],
   "source": []
  }
 ],
 "metadata": {
  "anaconda-cloud": {},
  "kernelspec": {
   "display_name": "Python 2",
   "language": "python",
   "name": "python2"
  },
  "language_info": {
   "codemirror_mode": {
    "name": "ipython",
    "version": 2
   },
   "file_extension": ".py",
   "mimetype": "text/x-python",
   "name": "python",
   "nbconvert_exporter": "python",
   "pygments_lexer": "ipython2",
   "version": "2.7.12"
  }
 },
 "nbformat": 4,
 "nbformat_minor": 1
}
